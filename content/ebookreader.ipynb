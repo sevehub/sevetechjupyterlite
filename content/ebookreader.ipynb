{
  "metadata": {
    "kernelspec": {
      "name": "python",
      "display_name": "Python (Pyodide)",
      "language": "python"
    },
    "language_info": {
      "codemirror_mode": {
        "name": "python",
        "version": 3
      },
      "file_extension": ".py",
      "mimetype": "text/x-python",
      "name": "python",
      "nbconvert_exporter": "python",
      "pygments_lexer": "ipython3",
      "version": "3.8"
    }
  },
  "nbformat_minor": 5,
  "nbformat": 4,
  "cells": [
    {
      "id": "47b9c5b8-f72f-45bb-ab76-8c3ab8154848",
      "cell_type": "markdown",
      "source": "# EBOOK READER",
      "metadata": {}
    },
    {
      "id": "03a8047e-70ef-4548-b9a9-8859c06c7475",
      "cell_type": "code",
      "source": "from IPython.display import IFrame\n\n# Define the URL you want to embed\nurl = \"https://tessarinseve.pythonanywhere.com/epubreader\"\n\nIFrame(url,600,400)",
      "metadata": {
        "trusted": true
      },
      "outputs": [
        {
          "execution_count": 5,
          "output_type": "execute_result",
          "data": {
            "text/plain": "<IPython.lib.display.IFrame at 0x22402d0>",
            "text/html": "\n        <iframe\n            width=\"600\"\n            height=\"400\"\n            src=\"https://tessarinseve.pythonanywhere.com/epubreader\"\n            frameborder=\"0\"\n            allowfullscreen\n            \n        ></iframe>\n        "
          },
          "metadata": {}
        }
      ],
      "execution_count": 5
    },
    {
      "id": "6166f0c2-ab62-4c20-bdf5-96e7e70fa00f",
      "cell_type": "code",
      "source": "",
      "metadata": {
        "trusted": true
      },
      "outputs": [],
      "execution_count": null
    }
  ]
}