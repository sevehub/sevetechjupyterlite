{
  "metadata": {
    "kernelspec": {
      "name": "python",
      "display_name": "Python (Pyodide)",
      "language": "python"
    },
    "language_info": {
      "codemirror_mode": {
        "name": "python",
        "version": 3
      },
      "file_extension": ".py",
      "mimetype": "text/x-python",
      "name": "python",
      "nbconvert_exporter": "python",
      "pygments_lexer": "ipython3",
      "version": "3.8"
    },
    "gist_info": {
      "gist_url": "https://gist.github.com/sevehub/bc10fc58cef0d934a76fbe7f4712d4ec",
      "gist_id": "bc10fc58cef0d934a76fbe7f4712d4ec",
      "create_date": "2025-05-28T14:36:08Z"
    }
  },
  "nbformat_minor": 5,
  "nbformat": 4,
  "cells": [
    {
      "id": "1c977a6a-086b-49b5-94fa-e90cf40c69b9",
      "cell_type": "markdown",
      "source": "## Try Vim in JupyterLite: No Installation Required",
      "metadata": {}
    },
    {
      "id": "97e1b75a-6115-4b61-af29-fc67f5a9a609",
      "cell_type": "markdown",
      "source": "You can experiance the power of Vim by utilizing the IPython console embedded in the JupyterLite notebook below. There's no installation required—just enter `%edit READY.txt` in the IPython console to explore basic and intermediate Vim movements and commands. When you're finished, simply exit by typing `:qa`. Enjoy your exploration of Vim in this convenient setup!",
      "metadata": {}
    },
    {
      "id": "c8d16632-758d-4a52-98f4-fd6ac2e9e940",
      "cell_type": "code",
      "source": "from IPython.display import HTML\nHTML(\"\"\"\n<iframe style=\"width:100%; height: 400px; border: none;\" name=\"embedded_python_anywhere\" src=\"https://www.pythonanywhere.com/embedded3/\"></iframe>\n\"\"\")\n",
      "metadata": {
        "trusted": true
      },
      "outputs": [
        {
          "execution_count": 10,
          "output_type": "execute_result",
          "data": {
            "text/plain": "<IPython.core.display.HTML object>",
            "text/html": "\n<iframe style=\"width:100%; height: 400px; border: none;\" name=\"embedded_python_anywhere\" src=\"https://www.pythonanywhere.com/embedded3/\"></iframe>\n"
          },
          "metadata": {}
        }
      ],
      "execution_count": 10
    },
    {
      "id": "7983ae39-c313-43da-9007-d963fe96dcd9",
      "cell_type": "markdown",
      "source": "For a full tutorial on how to use Vim, check the following link: [Tutorial on Vim](https://tessarinseve.pythonanywhere.com/nws/VIM.wiki.html).",
      "metadata": {}
    },
    {
      "id": "499964d6-d067-4607-9e4a-ca1e2e181fab",
      "cell_type": "code",
      "source": "",
      "metadata": {
        "trusted": true
      },
      "outputs": [],
      "execution_count": null
    }
  ]
}