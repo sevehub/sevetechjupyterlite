{
 "cells": [
  {
   "cell_type": "markdown",
   "id": "1c977a6a-086b-49b5-94fa-e90cf40c69b9",
   "metadata": {},
   "source": [
    "## Try Vim in JupyterLite: No Installation Required"
   ]
  },
  {
   "cell_type": "markdown",
   "id": "97e1b75a-6115-4b61-af29-fc67f5a9a609",
   "metadata": {},
   "source": [
    "You can experience the power of Vim by utilizing the IPython console embedded in the JupyterLite notebook below. There's no installation required—just enter  `!vim` or `%edit README.txt` in the IPython console to explore basic and intermediate Vim movements and commands. When you're finished, simply exit by typing `:qa`. Enjoy your exploration of Vim in this convenient setup!"
   ]
  },
  {
   "cell_type": "code",
   "execution_count": 18,
   "id": "c8d16632-758d-4a52-98f4-fd6ac2e9e940",
   "metadata": {},
   "outputs": [
    {
     "data": {
      "text/html": [
       "\n",
       "<iframe style=\"width:800px; height: 400px; border: none;\" name=\"embedded_python_anywhere\" src=\"https://www.pythonanywhere.com/embedded3/\"></iframe>\n"
      ],
      "text/plain": [
       "<IPython.core.display.HTML object>"
      ]
     },
     "execution_count": 18,
     "metadata": {},
     "output_type": "execute_result"
    }
   ],
   "source": [
    "from IPython.display import HTML\n",
    "HTML(\"\"\"\n",
    "<iframe style=\"width:800px; height: 400px; border: none;\" name=\"embedded_python_anywhere\" src=\"https://www.pythonanywhere.com/embedded3/\"></iframe>\n",
    "\"\"\")\n"
   ]
  },
  {
   "cell_type": "markdown",
   "id": "7983ae39-c313-43da-9007-d963fe96dcd9",
   "metadata": {},
   "source": [
    "For a full tutorial on how to use Vim, check the following link: [Tutorial on Vim](https://tessarinseve.pythonanywhere.com/nws/VIM.wiki.html)."
   ]
  },
  {
   "cell_type": "code",
   "execution_count": null,
   "id": "499964d6-d067-4607-9e4a-ca1e2e181fab",
   "metadata": {},
   "outputs": [],
   "source": []
  }
 ],
 "metadata": {
  "gist_info": {
   "create_date": "2025-05-28T15:31:15Z",
   "gist_id": "fef6f18497a6ea120dd4c659633eab36",
   "gist_url": "https://gist.github.com/sevehub/fef6f18497a6ea120dd4c659633eab36"
  },
  "kernelspec": {
   "display_name": "Python 3 (ipykernel)",
   "language": "python",
   "name": "python3"
  },
  "language_info": {
   "codemirror_mode": {
    "name": "ipython",
    "version": 3
   },
   "file_extension": ".py",
   "mimetype": "text/x-python",
   "name": "python",
   "nbconvert_exporter": "python",
   "pygments_lexer": "ipython3",
   "version": "3.11.8"
  }
 },
 "nbformat": 4,
 "nbformat_minor": 5
}
