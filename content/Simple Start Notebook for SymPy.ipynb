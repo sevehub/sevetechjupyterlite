{
 "cells": [
  {
   "cell_type": "markdown",
   "id": "ff75b514-41ce-4887-9f68-50ac34ad29cc",
   "metadata": {},
   "source": [
    "## Importing SymPy\n",
    "First, you need to import the SymPy library and initialize it:"
   ]
  },
  {
   "cell_type": "code",
   "execution_count": null,
   "id": "896410c9-67c5-4cc9-ba4e-4aa0106ad2bd",
   "metadata": {},
   "outputs": [],
   "source": [
    "from sympy import *\n",
    "x, y, z = symbols('x y z')\n",
    "init_printing(use_unicode=True)"
   ]
  },
  {
   "cell_type": "markdown",
   "id": "1ca51215-2910-42d5-ba07-1e6974630d61",
   "metadata": {},
   "source": [
    "## Basic Algebraic Operations\n",
    "You can perform basic arithmetic operations like addition, subtraction, multiplication, and division:"
   ]
  },
  {
   "cell_type": "code",
   "execution_count": null,
   "id": "454ad4b9-65d6-4332-9096-f7b9f34401a5",
   "metadata": {},
   "outputs": [],
   "source": [
    "# Addition\n",
    "expr1 = x + y\n",
    "\n",
    "# Subtraction\n",
    "expr2 = x - y\n",
    "\n",
    "# Multiplication\n",
    "expr3 = x * y\n",
    "\n",
    "# Division\n",
    "expr4 = x / y\n",
    "\n",
    "print(f\"{expr1}\\t{expr2}\\t{expr3}\\t{expr4}\")"
   ]
  },
  {
   "cell_type": "markdown",
   "id": "ca0511e9-21b5-4744-9cbf-0ee592a2b5ce",
   "metadata": {},
   "source": [
    "## Simplification\n",
    "To simplify expressions, use the simplify() function:"
   ]
  },
  {
   "cell_type": "code",
   "execution_count": null,
   "id": "8a6aeca9-87b6-4fbe-a929-f90697160703",
   "metadata": {},
   "outputs": [],
   "source": [
    "# Simplifying an expression\n",
    "expr = (x**2 - y**2) / (x - y)\n",
    "simplified_expr = simplify(expr)\n",
    "simplified_expr"
   ]
  },
  {
   "cell_type": "markdown",
   "id": "584bbfe5-117a-428a-aeab-059b4aca5da8",
   "metadata": {},
   "source": [
    "## Expanding and Factoring\n",
    "You can expand and factor polynomials using expand() and factor():"
   ]
  },
  {
   "cell_type": "code",
   "execution_count": null,
   "id": "dd320d1e-c5f7-44a6-9ca1-abc93b9ed5a5",
   "metadata": {},
   "outputs": [],
   "source": [
    "# Expanding a polynomial\n",
    "polynomial = (x + y)**2\n",
    "expanded_polynomial = expand(polynomial)\n",
    "print(expanded_polynomial)\n",
    "# Factoring a polynomial\n",
    "factored_polynomial = factor(x**2 - y**2)\n",
    "print(f\"\\n{factored_polynomial}\")"
   ]
  },
  {
   "cell_type": "markdown",
   "id": "36007c98-84f7-4559-b510-8255126d5ecb",
   "metadata": {},
   "source": [
    "## Solving Equations\n",
    "To solve equations, use the solve() function:"
   ]
  },
  {
   "cell_type": "code",
   "execution_count": null,
   "id": "577544da-de8c-4bbb-9bb3-c8fba6f95883",
   "metadata": {},
   "outputs": [],
   "source": [
    "\n",
    "equation = Eq(x**2 + 2*x + 1, 0)\n",
    "solutions = solve(equation, x)\n",
    "solutions"
   ]
  },
  {
   "cell_type": "markdown",
   "id": "e956203d-d37b-44a3-8893-e4250805a71d",
   "metadata": {},
   "source": [
    "## Working with Polynomials\n",
    "You can create and manipulate polynomials easily"
   ]
  },
  {
   "cell_type": "code",
   "execution_count": null,
   "id": "655bfcfc-9e3c-4887-95df-7ba8741b7eae",
   "metadata": {},
   "outputs": [],
   "source": [
    "# Creating a polynomial\n",
    "poly3 = poly(x**3 + 2*x**2 + x + 1)\n",
    "\n",
    "# Getting the degree of the polynomial\n",
    "degree = poly3.degree()\n",
    "\n",
    "# Coefficients of the polynomial\n",
    "coefficients = poly3.all_coeffs()\n",
    "print(f\"Degree: {degree}\\tcoefficients:{coefficients}\")"
   ]
  },
  {
   "cell_type": "markdown",
   "id": "32b85b23-f561-4dba-b318-6c5cb8265efc",
   "metadata": {},
   "source": [
    "## Example: Full Computation\n",
    "Here’s a complete example that combines several operations:\n"
   ]
  },
  {
   "cell_type": "code",
   "execution_count": null,
   "id": "57975a7c-dde2-4d82-93b0-bd57c0f31d18",
   "metadata": {},
   "outputs": [],
   "source": [
    "# Define symbols\n",
    "x, y = symbols('x y')\n",
    "\n",
    "# Define an expression\n",
    "expr = x**2 + 2*x + 1\n",
    "\n",
    "# Simplify the expression\n",
    "simplified = simplify(expr)\n",
    "\n",
    "# Expand the expression\n",
    "expanded = expand((x + 1)**2)\n",
    "\n",
    "# Solve the equation\n",
    "equation = Eq(x**2 + 2*x + 1, 0)\n",
    "solutions = solve(equation, x)\n",
    "\n",
    "# Output results\n",
    "print(\"Simplified:\", simplified)\n",
    "print(\"Expanded:\", expanded)\n",
    "print(\"Solutions:\", solutions)\n"
   ]
  }
 ],
 "metadata": {
  "kernelspec": {
   "display_name": "Python 3 (ipykernel)",
   "language": "python",
   "name": "python3"
  },
  "language_info": {
   "codemirror_mode": {
    "name": "ipython",
    "version": 3
   },
   "file_extension": ".py",
   "mimetype": "text/x-python",
   "name": "python",
   "nbconvert_exporter": "python",
   "pygments_lexer": "ipython3",
   "version": "3.11.8"
  }
 },
 "nbformat": 4,
 "nbformat_minor": 5
}
